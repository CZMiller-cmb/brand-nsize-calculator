{
 "cells": [
  {
   "cell_type": "markdown",
   "id": "e4afbdc2-80b2-4f78-be1c-89587da54e5b",
   "metadata": {
    "jp-MarkdownHeadingCollapsed": true
   },
   "source": [
    "# Read me"
   ]
  },
  {
   "cell_type": "markdown",
   "id": "c2dfb8f8-b0e6-49ed-b006-6a01566d0898",
   "metadata": {},
   "source": [
    "__Brand N-size Calculator__\n",
    "<br> _Created by: Cameron Miller_\n",
    "<br> _Last updated: 05.30.24_\n",
    "\n",
    "This tool can be used to estimate the number of exposures per brand when the following parameters are known:\n",
    "- Total expected sample size\n",
    "- Number of brands in study\n",
    "- Estimated awareness level for each brand\n",
    "- Number of brands assigned per respondent\n",
    "- Assignment method (least fill or randomization)\n",
    "- Brand prioritization (if any)\n",
    "\n",
    "In the 'User inputs' section, these parameters are entered as prompted and the script outputs the following in the 'Run' section, taking into consideration the user's settings:\n",
    "- The estimated number of exposures for each brand\n",
    "- The number of respondents assigned 0 brands, 1 brand, 2 brands, etc. up to the number of possible brands assigned\n",
    "\n",
    "No revisions to actual code are needed in the 'User inputs' section, and nothing should be inputted/changed at all in the 'Setup' or 'Run' sections."
   ]
  },
  {
   "cell_type": "markdown",
   "id": "01b708f2-06df-47b9-884e-04b4276d895e",
   "metadata": {
    "jp-MarkdownHeadingCollapsed": true
   },
   "source": [
    "# User inputs"
   ]
  },
  {
   "cell_type": "code",
   "execution_count": null,
   "id": "7e6c42c4-da0f-49d1-bc2a-885ae1180045",
   "metadata": {},
   "outputs": [],
   "source": [
    "# Total sample size\n",
    "while True:\n",
    "    try:\n",
    "        N = int(input(\"Enter your expected total sample size (e.g., 1000): \"))\n",
    "        break\n",
    "    except ValueError:\n",
    "        print(\"Please make sure you input a numeric value with no commas or extra characters.\")"
   ]
  },
  {
   "cell_type": "code",
   "execution_count": null,
   "id": "11521edb-477c-402d-a607-cdb3e8c701c5",
   "metadata": {},
   "outputs": [],
   "source": [
    "# Total number of brands\n",
    "while True:\n",
    "    try:\n",
    "        num_brands = int(input(\"Enter the number of brands in your study (e.g., 10): \"))\n",
    "        break\n",
    "    except ValueError:\n",
    "        print(\"Please make sure you input a numeric value with no commas or extra characters.\")"
   ]
  },
  {
   "cell_type": "code",
   "execution_count": null,
   "id": "3db0b629-a0fd-47a2-b861-318781dd3dc5",
   "metadata": {},
   "outputs": [],
   "source": [
    "# Awareness levels of each brand\n",
    "brand_awareness_levels = []\n",
    "\n",
    "for i in range(num_brands):\n",
    "    while True:\n",
    "        try:\n",
    "            brand_awareness_level = float(input(f\"Enter the estimated awareness level of Brand {i+1} as a decimal between 0 and 1 (e.g., 0.25 for 25%): \"))\n",
    "            if 0 <= brand_awareness_level <= 1:\n",
    "                brand_awareness_levels.append(brand_awareness_level)\n",
    "                break\n",
    "            else:\n",
    "                print(\"Please enter a numeric value as a decimal between 0 and 1.\")\n",
    "        except ValueError:\n",
    "            print(\"Please enter a numeric value as a decimal between 0 and 1.\")"
   ]
  },
  {
   "cell_type": "code",
   "execution_count": null,
   "id": "404d4f6e-8264-4d18-a799-207780132c58",
   "metadata": {},
   "outputs": [],
   "source": [
    "# Number of brands assigned per respondent\n",
    "while True:\n",
    "    try:\n",
    "        num_brands_assigned = int(input(\"Enter the number of brands assigned per respondent (e.g., 2): \"))\n",
    "        if num_brands_assigned <= num_brands:\n",
    "            break\n",
    "        else:\n",
    "            print(f\"The number of brands assigned per respondent must be less than or equal to the total number of brands ({num_brands}).\")\n",
    "    except ValueError:\n",
    "        print(\"Please make sure you input a numeric value with no commas or extra characters.\")"
   ]
  },
  {
   "cell_type": "code",
   "execution_count": null,
   "id": "93890636-b3e9-4631-b5a8-0f614da5ea54",
   "metadata": {},
   "outputs": [],
   "source": [
    "# Method of assignment\n",
    "class InvalidAssignmentMethodError(ValueError):\n",
    "    pass\n",
    "\n",
    "while True:\n",
    "    try:\n",
    "        assignment_method = input(\"Enter the method of brand assignment, either least fill or random: \").strip().replace(\" \", \"\").lower()\n",
    "        if assignment_method not in [\"leastfill\", \"random\"]:\n",
    "            raise InvalidAssignmentMethodError(f\"Invalid assignment method: {assignment_method}. Please enter least fill or random.\")\n",
    "        break\n",
    "    except InvalidAssignmentMethodError as e:\n",
    "        print(e)"
   ]
  },
  {
   "cell_type": "code",
   "execution_count": null,
   "id": "d8ba2086-e6a0-4c20-a144-0ca797d686ec",
   "metadata": {},
   "outputs": [],
   "source": [
    "class InvalidBrandError(ValueError):\n",
    "    pass\n",
    "\n",
    "while True:\n",
    "    try:\n",
    "        prioritized_brands_input = input(\"Enter any prioritized brands separated by commas (e.g., Brand 1, Brand 3) or leave blank if none: \").strip()\n",
    "        if not prioritized_brands_input:\n",
    "            prioritized_brands = []\n",
    "            break\n",
    "        prioritized_brands = [brand.strip().lower().capitalize().replace(\" \", \"\") for brand in prioritized_brands_input.split(',')]\n",
    "        invalid_brands = [brand for brand in prioritized_brands if not (brand.startswith(\"Brand\") and brand[5:].isdigit() and 1 <= int(brand[5:]) <= num_brands)]\n",
    "        if invalid_brands:\n",
    "            raise InvalidBrandError(f\"Invalid brand(s) found ({', '.join(invalid_brands)}). Please enter brands in the format 'Brand #' where # is between 1 and {num_brands}.\")\n",
    "        break\n",
    "    except InvalidBrandError as e:\n",
    "        print(e)"
   ]
  },
  {
   "cell_type": "markdown",
   "id": "995cb1e8-5c0b-4b34-b6ed-17ee92fa7ec9",
   "metadata": {
    "jp-MarkdownHeadingCollapsed": true
   },
   "source": [
    "# Setup"
   ]
  },
  {
   "cell_type": "code",
   "execution_count": null,
   "id": "134a79ba-b896-440d-9d82-99809f9b482a",
   "metadata": {},
   "outputs": [],
   "source": [
    "# Import packages\n",
    "import random"
   ]
  },
  {
   "cell_type": "code",
   "execution_count": null,
   "id": "157375f1-35bd-4261-8cf2-f0bf76f02118",
   "metadata": {},
   "outputs": [],
   "source": [
    "# Create the brand awareness dictionary\n",
    "brand_awareness = {f\"Brand{i+1}\": awareness for i, awareness in enumerate(brand_awareness_levels)}"
   ]
  },
  {
   "cell_type": "code",
   "execution_count": null,
   "id": "bac7c443-264d-45d8-8c63-6f883dbf0cb5",
   "metadata": {},
   "outputs": [],
   "source": [
    "# Calculate initial expected assignments\n",
    "def calculate_expected_assignments(N, brand_awareness):\n",
    "    return {brand: int(N * awareness) for brand, awareness in brand_awareness.items()}"
   ]
  },
  {
   "cell_type": "code",
   "execution_count": null,
   "id": "5295108f-7852-4ff4-affa-76e95f737997",
   "metadata": {},
   "outputs": [],
   "source": [
    "# Initialize assignment counts\n",
    "def initialize_assignments(brand_awareness):\n",
    "    return {brand: 0 for brand in brand_awareness}"
   ]
  },
  {
   "cell_type": "code",
   "execution_count": null,
   "id": "8731dd20-0c24-4865-8ea1-27d5912a88ee",
   "metadata": {},
   "outputs": [],
   "source": [
    "# Assign a respondent to up to `num_brands_assigned` brands using least fill logic\n",
    "def assign_brands_least_fill(assignments, expected_assignments, num_brands_assigned, prioritized_brands):\n",
    "    assigned_brands = []\n",
    "    # First assign to prioritized brands\n",
    "    for brand in prioritized_brands:\n",
    "        if len(assigned_brands) < num_brands_assigned and assignments[brand] < expected_assignments[brand]:\n",
    "            assigned_brands.append(brand)\n",
    "            assignments[brand] += 1\n",
    "    # Assign remaining slots using least fill logic\n",
    "    if len(assigned_brands) < num_brands_assigned:\n",
    "        sorted_brands = sorted(assignments.items(), key=lambda x: x[1])\n",
    "        for brand, _ in sorted_brands:\n",
    "            if len(assigned_brands) < num_brands_assigned and brand not in assigned_brands and assignments[brand] < expected_assignments[brand]:\n",
    "                assigned_brands.append(brand)\n",
    "                assignments[brand] += 1\n",
    "    return assigned_brands"
   ]
  },
  {
   "cell_type": "code",
   "execution_count": null,
   "id": "c296d5a2-cd0c-4a45-ac72-817c0e30e10c",
   "metadata": {},
   "outputs": [],
   "source": [
    "# Assign a respondent to up to `num_brands_assigned` brands using pure randomization\n",
    "def assign_brands_random(assignments, expected_assignments, num_brands_assigned, brand_awareness, prioritized_brands):\n",
    "    assigned_brands = []\n",
    "    # First assign to prioritized brands\n",
    "    for brand in prioritized_brands:\n",
    "        if len(assigned_brands) < num_brands_assigned and assignments[brand] < expected_assignments[brand]:\n",
    "            assigned_brands.append(brand)\n",
    "            assignments[brand] += 1\n",
    "    # Assign remaining slots randomly\n",
    "    if len(assigned_brands) < num_brands_assigned:\n",
    "        available_brands = [brand for brand, count in expected_assignments.items() if assignments[brand] < count and brand not in assigned_brands]\n",
    "        random_brands = random.sample(available_brands, min(num_brands_assigned - len(assigned_brands), len(available_brands)))\n",
    "        for brand in random_brands:\n",
    "            assigned_brands.append(brand)\n",
    "            assignments[brand] += 1\n",
    "    return assigned_brands"
   ]
  },
  {
   "cell_type": "code",
   "execution_count": null,
   "id": "7e93dc5c-becd-4edf-9c4e-8622c99eaf58",
   "metadata": {},
   "outputs": [],
   "source": [
    "# Distribute respondents\n",
    "def distribute_respondents(N, brand_awareness, num_brands_assigned, assignment_method, prioritized_brands):\n",
    "    expected_assignments = calculate_expected_assignments(N, brand_awareness)\n",
    "    assignments = initialize_assignments(brand_awareness)\n",
    "    respondents_assignment_count = [0] * N\n",
    "    for i in range(N):\n",
    "        if assignment_method == 'leastfill':\n",
    "            assigned_brands = assign_brands_least_fill(assignments, expected_assignments, num_brands_assigned, prioritized_brands)\n",
    "        elif assignment_method == 'random':\n",
    "            assigned_brands = assign_brands_random(assignments, expected_assignments, num_brands_assigned, brand_awareness, prioritized_brands)\n",
    "        respondents_assignment_count[i] = len(assigned_brands)\n",
    "    assignment_distribution = [respondents_assignment_count.count(i) for i in range(num_brands_assigned + 1)]\n",
    "    return assignments, assignment_distribution"
   ]
  },
  {
   "cell_type": "markdown",
   "id": "75a7a2e6-196a-495f-9f3c-31c6bf6fa0eb",
   "metadata": {
    "jp-MarkdownHeadingCollapsed": true
   },
   "source": [
    "# Run"
   ]
  },
  {
   "cell_type": "code",
   "execution_count": null,
   "id": "83a03cf2-5c4b-4df7-9d6e-5c08ca69f278",
   "metadata": {},
   "outputs": [],
   "source": [
    "assignments, assignment_distribution = distribute_respondents(N, brand_awareness, num_brands_assigned, assignment_method, prioritized_brands)\n",
    "\n",
    "html_output = \"<h2>Brand Assignments</h2>\"\n",
    "html_output += \"<table><tr><th>Brand</th><th>Count</th></tr>\"\n",
    "for brand, count in assignments.items():\n",
    "    html_output += f\"<tr><td>{brand}</td><td>{count}</td></tr>\"\n",
    "html_output += \"</table>\"\n",
    "\n",
    "html_output += \"<h2>Respondent Assignments</h2>\"\n",
    "html_output += \"<table><tr><th>Brands Assigned</th><th>Count</th></tr>\"\n",
    "for i, count in enumerate(assignment_distribution):\n",
    "    html_output += f\"<tr><td>{i}</td><td>{count}</td></tr>\"\n",
    "html_output += \"</table>\"\n",
    "\n",
    "from IPython.display import display, HTML\n",
    "display(HTML(html_output))"
   ]
  },
  {
   "cell_type": "code",
   "execution_count": null,
   "id": "bd610b34-6a93-4b30-9791-1a47d7d80128",
   "metadata": {},
   "outputs": [],
   "source": []
  }
 ],
 "metadata": {
  "kernelspec": {
   "display_name": "Python 3 (ipykernel)",
   "language": "python",
   "name": "python3"
  },
  "language_info": {
   "codemirror_mode": {
    "name": "ipython",
    "version": 3
   },
   "file_extension": ".py",
   "mimetype": "text/x-python",
   "name": "python",
   "nbconvert_exporter": "python",
   "pygments_lexer": "ipython3",
   "version": "3.8.19"
  }
 },
 "nbformat": 4,
 "nbformat_minor": 5
}
